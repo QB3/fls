{
 "cells": [
  {
   "cell_type": "markdown",
   "metadata": {},
   "source": [
    "## Example Usage\n",
    "Simple example of how to get the FLS of a generative model for CIFAR10 (e.g. in this example RandomGAN).\n",
    "\n",
    "We assume the generative model returns images in range $[-1, 1]$ with shape $[B, C, W, H]$"
   ]
  },
  {
   "cell_type": "code",
   "execution_count": 3,
   "metadata": {},
   "outputs": [],
   "source": [
    "import torch\n",
    "import torch.nn as nn\n",
    "import torchvision\n",
    "\n",
    "class RandomGAN(nn.Module):\n",
    "    def __init__(self):\n",
    "        super(RandomGAN, self).__init__()\n",
    "        \n",
    "    def forward(self, x):\n",
    "        return torch.randn((128, 3, 32, 32))\n",
    "\n",
    "GAN = RandomGAN()\n",
    "\n",
    "# Create a no-argument function that returns batches of images\n",
    "def generate_imgs():\n",
    "    x = torch.randn((128, 100))\n",
    "    return GAN(x)"
   ]
  },
  {
   "cell_type": "code",
   "execution_count": 5,
   "metadata": {},
   "outputs": [
    {
     "name": "stdout",
     "output_type": "stream",
     "text": [
      "Downloading https://www.cs.toronto.edu/~kriz/cifar-10-python.tar.gz to ./data/cifar-10-python.tar.gz\n"
     ]
    },
    {
     "name": "stderr",
     "output_type": "stream",
     "text": [
      "100%|██████████| 170498071/170498071 [00:05<00:00, 31348001.74it/s]\n"
     ]
    },
    {
     "name": "stdout",
     "output_type": "stream",
     "text": [
      "Extracting ./data/cifar-10-python.tar.gz to ./data\n",
      "Files already downloaded and verified\n"
     ]
    },
    {
     "name": "stderr",
     "output_type": "stream",
     "text": [
      "100%|██████████| 79/79 [00:13<00:00,  5.98it/s]  \n"
     ]
    },
    {
     "name": "stdout",
     "output_type": "stream",
     "text": [
      "Random GAN FLS: 59.4827917098999\n"
     ]
    }
   ],
   "source": [
    "from fls.features.InceptionFeatureExtractor import InceptionFeatureExtractor # or DINOv2FeatureExtractor/CLIPFeatureExtractor\n",
    "from fls.metrics.FLS import FLS\n",
    "\n",
    "# Save path determines where features are cached (useful for train/test sets)\n",
    "feature_extractor = InceptionFeatureExtractor(save_path=\"data/features\")\n",
    "\n",
    "# FLS needs 3 sets of samples: train, test and gen\n",
    "train_dataset = torchvision.datasets.CIFAR10(\n",
    "    root=\"./data\", train=True, download=True\n",
    ")\n",
    "train_dataset.name = \"CIFAR10_train\" # Dataset needs a name to cache features\n",
    "\n",
    "test_dataset = torchvision.datasets.CIFAR10(\n",
    "    root=\"./data\", train=False, download=True\n",
    ")\n",
    "test_dataset.name = \"CIFAR10_test\"\n",
    "\n",
    "train_feat = feature_extractor.get_all_features(train_dataset)\n",
    "test_feat = feature_extractor.get_all_features(test_dataset)\n",
    "\n",
    "# For this example, we use RandomGAN\n",
    "gen_feat = feature_extractor.get_gen_features(generate_imgs, size=10000)\n",
    "\n",
    "# 1.322 is a dataset specific constant\n",
    "cifar_fls = FLS(\"\", 1.322).compute_metric(train_feat, test_feat, gen_feat)\n",
    "print(f\"Random GAN FLS: {cifar_fls}\")\n"
   ]
  }
 ],
 "metadata": {
  "kernelspec": {
   "display_name": "env",
   "language": "python",
   "name": "python3"
  },
  "language_info": {
   "codemirror_mode": {
    "name": "ipython",
    "version": 3
   },
   "file_extension": ".py",
   "mimetype": "text/x-python",
   "name": "python",
   "nbconvert_exporter": "python",
   "pygments_lexer": "ipython3",
   "version": "3.8.2"
  },
  "orig_nbformat": 4
 },
 "nbformat": 4,
 "nbformat_minor": 2
}
